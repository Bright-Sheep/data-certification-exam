{
 "cells": [
  {
   "cell_type": "markdown",
   "id": "975eea31",
   "metadata": {
    "slideshow": {
     "slide_type": "slide"
    }
   },
   "source": [
    "# Les Crimes à Boston"
   ]
  },
  {
   "cell_type": "code",
   "execution_count": 1,
   "id": "55a54753",
   "metadata": {
    "slideshow": {
     "slide_type": "skip"
    }
   },
   "outputs": [],
   "source": [
    "# Useful imports for data manipulation and analysis\n",
    "import numpy as np\n",
    "import pandas as pd"
   ]
  },
  {
   "cell_type": "code",
   "execution_count": 2,
   "id": "39a269d7",
   "metadata": {
    "slideshow": {
     "slide_type": "skip"
    }
   },
   "outputs": [],
   "source": [
    "# Useful imports for data visualisation\n",
    "import matplotlib.pyplot as plt\n",
    "import seaborn as sns"
   ]
  },
  {
   "cell_type": "code",
   "execution_count": 3,
   "id": "8b770c82",
   "metadata": {
    "slideshow": {
     "slide_type": "skip"
    }
   },
   "outputs": [
    {
     "name": "stdout",
     "output_type": "stream",
     "text": [
      "Shape of the DataFrame: (237221, 9)\n"
     ]
    },
    {
     "data": {
      "text/html": [
       "<div>\n",
       "<style scoped>\n",
       "    .dataframe tbody tr th:only-of-type {\n",
       "        vertical-align: middle;\n",
       "    }\n",
       "\n",
       "    .dataframe tbody tr th {\n",
       "        vertical-align: top;\n",
       "    }\n",
       "\n",
       "    .dataframe thead th {\n",
       "        text-align: right;\n",
       "    }\n",
       "</style>\n",
       "<table border=\"1\" class=\"dataframe\">\n",
       "  <thead>\n",
       "    <tr style=\"text-align: right;\">\n",
       "      <th></th>\n",
       "      <th>INCIDENT_NUMBER</th>\n",
       "      <th>OFFENSE_CODE_GROUP</th>\n",
       "      <th>SHOOTING</th>\n",
       "      <th>OCCURRED_ON_DATE</th>\n",
       "      <th>LAT</th>\n",
       "      <th>LONG</th>\n",
       "      <th>NAME</th>\n",
       "      <th>LAT_POLICE_STATION</th>\n",
       "      <th>LONG_POLICE_STATION</th>\n",
       "    </tr>\n",
       "  </thead>\n",
       "  <tbody>\n",
       "    <tr>\n",
       "      <th>0</th>\n",
       "      <td>I192068249</td>\n",
       "      <td>Other</td>\n",
       "      <td>0</td>\n",
       "      <td>2015-08-28 10:20:00</td>\n",
       "      <td>42.330119</td>\n",
       "      <td>-71.084251</td>\n",
       "      <td>Roxbury</td>\n",
       "      <td>42.328894</td>\n",
       "      <td>-71.085359</td>\n",
       "    </tr>\n",
       "    <tr>\n",
       "      <th>1</th>\n",
       "      <td>I182074094</td>\n",
       "      <td>Violence and harassment</td>\n",
       "      <td>0</td>\n",
       "      <td>2015-09-14 09:31:00</td>\n",
       "      <td>42.315142</td>\n",
       "      <td>-71.067047</td>\n",
       "      <td>Roxbury</td>\n",
       "      <td>42.328894</td>\n",
       "      <td>-71.085359</td>\n",
       "    </tr>\n",
       "    <tr>\n",
       "      <th>2</th>\n",
       "      <td>I182054888</td>\n",
       "      <td>Violence and harassment</td>\n",
       "      <td>0</td>\n",
       "      <td>2015-07-12 15:37:00</td>\n",
       "      <td>42.312243</td>\n",
       "      <td>-71.075499</td>\n",
       "      <td>Roxbury</td>\n",
       "      <td>42.328894</td>\n",
       "      <td>-71.085359</td>\n",
       "    </tr>\n",
       "    <tr>\n",
       "      <th>3</th>\n",
       "      <td>I182054888</td>\n",
       "      <td>Other</td>\n",
       "      <td>0</td>\n",
       "      <td>2015-07-12 15:37:00</td>\n",
       "      <td>42.312243</td>\n",
       "      <td>-71.075499</td>\n",
       "      <td>Roxbury</td>\n",
       "      <td>42.328894</td>\n",
       "      <td>-71.085359</td>\n",
       "    </tr>\n",
       "    <tr>\n",
       "      <th>4</th>\n",
       "      <td>I182054888</td>\n",
       "      <td>Other</td>\n",
       "      <td>0</td>\n",
       "      <td>2015-07-12 15:37:00</td>\n",
       "      <td>42.312243</td>\n",
       "      <td>-71.075499</td>\n",
       "      <td>Roxbury</td>\n",
       "      <td>42.328894</td>\n",
       "      <td>-71.085359</td>\n",
       "    </tr>\n",
       "  </tbody>\n",
       "</table>\n",
       "</div>"
      ],
      "text/plain": [
       "  INCIDENT_NUMBER       OFFENSE_CODE_GROUP  SHOOTING     OCCURRED_ON_DATE  \\\n",
       "0      I192068249                    Other         0  2015-08-28 10:20:00   \n",
       "1      I182074094  Violence and harassment         0  2015-09-14 09:31:00   \n",
       "2      I182054888  Violence and harassment         0  2015-07-12 15:37:00   \n",
       "3      I182054888                    Other         0  2015-07-12 15:37:00   \n",
       "4      I182054888                    Other         0  2015-07-12 15:37:00   \n",
       "\n",
       "         LAT       LONG     NAME  LAT_POLICE_STATION  LONG_POLICE_STATION  \n",
       "0  42.330119 -71.084251  Roxbury           42.328894           -71.085359  \n",
       "1  42.315142 -71.067047  Roxbury           42.328894           -71.085359  \n",
       "2  42.312243 -71.075499  Roxbury           42.328894           -71.085359  \n",
       "3  42.312243 -71.075499  Roxbury           42.328894           -71.085359  \n",
       "4  42.312243 -71.075499  Roxbury           42.328894           -71.085359  "
      ]
     },
     "execution_count": 3,
     "metadata": {},
     "output_type": "execute_result"
    }
   ],
   "source": [
    "from data import load_data_viz_data\n",
    "\n",
    "data = load_data_viz_data()\n",
    "data[['LAT','LONG']] = data[['LAT','LONG']].astype('float64')\n",
    "\n",
    "print(\"Shape of the DataFrame:\", data.shape)\n",
    "\n",
    "data.head()"
   ]
  },
  {
   "cell_type": "code",
   "execution_count": 5,
   "id": "1417fc58",
   "metadata": {
    "slideshow": {
     "slide_type": "skip"
    }
   },
   "outputs": [],
   "source": [
    "clean_data = data[data['LONG'] != -1]"
   ]
  },
  {
   "cell_type": "code",
   "execution_count": 7,
   "id": "62e3dc2e",
   "metadata": {
    "slideshow": {
     "slide_type": "skip"
    }
   },
   "outputs": [],
   "source": [
    "data_date = clean_data.copy()"
   ]
  },
  {
   "cell_type": "code",
   "execution_count": 8,
   "id": "4508cea8",
   "metadata": {
    "slideshow": {
     "slide_type": "skip"
    }
   },
   "outputs": [],
   "source": [
    "data_date['OCCURRED_ON_DATE'] = data['OCCURRED_ON_DATE'].apply(lambda x: x[11:13]).astype(int)"
   ]
  },
  {
   "cell_type": "code",
   "execution_count": 9,
   "id": "742623d0",
   "metadata": {
    "slideshow": {
     "slide_type": "skip"
    }
   },
   "outputs": [],
   "source": [
    "data_night = data_date[(data_date['OCCURRED_ON_DATE']<8)|(data_date['OCCURRED_ON_DATE']>20)]\n",
    "data_day = data_date[(data_date['OCCURRED_ON_DATE']>8)&(data_date['OCCURRED_ON_DATE']<20)]"
   ]
  },
  {
   "cell_type": "code",
   "execution_count": 12,
   "id": "62c6410f",
   "metadata": {
    "slideshow": {
     "slide_type": "skip"
    }
   },
   "outputs": [],
   "source": [
    "def custom_agg(data):\n",
    "    # On crée le dataframe principal\n",
    "    df = pd.DataFrame( {'NAME':[],'Most_common_category_of_incident':[]})\n",
    "    for i in data['NAME'].unique():\n",
    "        # On calcule le nombre de chaque type d'incident sur un district\n",
    "        district = data[data['NAME'] == i].value_counts('OFFENSE_CODE_GROUP',sort=True, ascending=False)\n",
    "        # On récupère l'incident le plus courant (district.index[0]) et on créer un dataframe\n",
    "        df_1 = pd.DataFrame( {'NAME':[i],'Most_common_category_of_incident':[district.index[0]]})\n",
    "        # On merge avec le Dataframe principal\n",
    "        df = pd.merge(df,df_1,how = 'outer')\n",
    "    return df"
   ]
  },
  {
   "cell_type": "markdown",
   "id": "c1d7b151",
   "metadata": {
    "slideshow": {
     "slide_type": "slide"
    }
   },
   "source": [
    "Nous avons poursuivi notre analyse des données collectées sur les crimes à Boston entre 2015 et 2019. En analysant les données, nous n'avons pas remarqué de tendance particulière. Nous avons étudié le type de crime sur tout Boston et selon les districts, et la position des crimes par rapport aux stations."
   ]
  },
  {
   "cell_type": "markdown",
   "id": "c2d85d20",
   "metadata": {
    "slideshow": {
     "slide_type": "subslide"
    }
   },
   "source": [
    "Dans tous les districts, le crime le plus fréquent est le vandalisme et le vol.\n",
    "\n",
    "Cela reste vrai de jour (8h-20h) comme de nuit (20h-8h)"
   ]
  },
  {
   "cell_type": "code",
   "execution_count": 48,
   "id": "620f7908",
   "metadata": {
    "slideshow": {
     "slide_type": "subslide"
    }
   },
   "outputs": [
    {
     "data": {
      "image/png": "[encoded data removed]",
      "text/plain": [
       "<Figure size 432x288 with 1 Axes>"
      ]
     },
     "metadata": {
      "needs_background": "light"
     },
     "output_type": "display_data"
    }
   ],
   "source": [
    "district = data_day.value_counts('OFFENSE_CODE_GROUP',sort=True, ascending=False)\n",
    "heights = district\n",
    "bars = district.index\n",
    "y_pos = range(len(bars))\n",
    "plt.title('Crime à Boston')\n",
    "plt.bar(y_pos, heights, label ='jour')\n",
    "plt.xticks(y_pos, bars, rotation=90)\n",
    "\n",
    "district = data_night.value_counts('OFFENSE_CODE_GROUP',sort=True, ascending=False)\n",
    "heights = district\n",
    "bars = district.index\n",
    "y_pos = range(len(bars))\n",
    "plt.bar(y_pos, heights,label = 'nuit')\n",
    "plt.xticks(y_pos, bars, rotation=90)\n",
    "\n",
    "plt.legend();"
   ]
  },
  {
   "cell_type": "markdown",
   "id": "61a36b0d",
   "metadata": {
    "slideshow": {
     "slide_type": "subslide"
    }
   },
   "source": [
    "On remarque également que le nombre de crimes commis la nuit est nettement inférieure au nombre de crimes commit le jour."
   ]
  },
  {
   "cell_type": "markdown",
   "id": "7f331805",
   "metadata": {
    "slideshow": {
     "slide_type": "slide"
    }
   },
   "source": [
    "Cette tendance se retrouve individuellement dans chacun des districts, à l'exception de Mattapan, où le crime les plus commit sont ceux nécessitant une procédure d'investigation de la police :"
   ]
  },
  {
   "cell_type": "code",
   "execution_count": 19,
   "id": "8c6d719d",
   "metadata": {
    "slideshow": {
     "slide_type": "subslide"
    }
   },
   "outputs": [
    {
     "data": {
      "text/html": [
       "<div>\n",
       "<style scoped>\n",
       "    .dataframe tbody tr th:only-of-type {\n",
       "        vertical-align: middle;\n",
       "    }\n",
       "\n",
       "    .dataframe tbody tr th {\n",
       "        vertical-align: top;\n",
       "    }\n",
       "\n",
       "    .dataframe thead th {\n",
       "        text-align: right;\n",
       "    }\n",
       "</style>\n",
       "<table border=\"1\" class=\"dataframe\">\n",
       "  <thead>\n",
       "    <tr style=\"text-align: right;\">\n",
       "      <th></th>\n",
       "      <th>NAME</th>\n",
       "      <th>Most_common_category_of_incident</th>\n",
       "    </tr>\n",
       "  </thead>\n",
       "  <tbody>\n",
       "    <tr>\n",
       "      <th>0</th>\n",
       "      <td>Roxbury</td>\n",
       "      <td>Larceny and vandalism</td>\n",
       "    </tr>\n",
       "    <tr>\n",
       "      <th>1</th>\n",
       "      <td>Dorchester</td>\n",
       "      <td>Larceny and vandalism</td>\n",
       "    </tr>\n",
       "    <tr>\n",
       "      <th>2</th>\n",
       "      <td>Downtown</td>\n",
       "      <td>Larceny and vandalism</td>\n",
       "    </tr>\n",
       "    <tr>\n",
       "      <th>3</th>\n",
       "      <td>Hyde Park</td>\n",
       "      <td>Larceny and vandalism</td>\n",
       "    </tr>\n",
       "    <tr>\n",
       "      <th>4</th>\n",
       "      <td>South End</td>\n",
       "      <td>Larceny and vandalism</td>\n",
       "    </tr>\n",
       "    <tr>\n",
       "      <th>5</th>\n",
       "      <td>Mattapan</td>\n",
       "      <td>Police investigation procedure</td>\n",
       "    </tr>\n",
       "    <tr>\n",
       "      <th>6</th>\n",
       "      <td>Brighton</td>\n",
       "      <td>Larceny and vandalism</td>\n",
       "    </tr>\n",
       "    <tr>\n",
       "      <th>7</th>\n",
       "      <td>East Boston</td>\n",
       "      <td>Larceny and vandalism</td>\n",
       "    </tr>\n",
       "    <tr>\n",
       "      <th>8</th>\n",
       "      <td>West Roxbury</td>\n",
       "      <td>Larceny and vandalism</td>\n",
       "    </tr>\n",
       "    <tr>\n",
       "      <th>9</th>\n",
       "      <td>South Boston</td>\n",
       "      <td>Larceny and vandalism</td>\n",
       "    </tr>\n",
       "    <tr>\n",
       "      <th>10</th>\n",
       "      <td>Jamaica Plain</td>\n",
       "      <td>Larceny and vandalism</td>\n",
       "    </tr>\n",
       "    <tr>\n",
       "      <th>11</th>\n",
       "      <td>Charlestown</td>\n",
       "      <td>Larceny and vandalism</td>\n",
       "    </tr>\n",
       "  </tbody>\n",
       "</table>\n",
       "</div>"
      ],
      "text/plain": [
       "             NAME Most_common_category_of_incident\n",
       "0         Roxbury            Larceny and vandalism\n",
       "1      Dorchester            Larceny and vandalism\n",
       "2        Downtown            Larceny and vandalism\n",
       "3       Hyde Park            Larceny and vandalism\n",
       "4       South End            Larceny and vandalism\n",
       "5        Mattapan   Police investigation procedure\n",
       "6        Brighton            Larceny and vandalism\n",
       "7     East Boston            Larceny and vandalism\n",
       "8    West Roxbury            Larceny and vandalism\n",
       "9    South Boston            Larceny and vandalism\n",
       "10  Jamaica Plain            Larceny and vandalism\n",
       "11    Charlestown            Larceny and vandalism"
      ]
     },
     "execution_count": 19,
     "metadata": {},
     "output_type": "execute_result"
    }
   ],
   "source": [
    "custom_agg(clean_data)"
   ]
  },
  {
   "cell_type": "markdown",
   "id": "0f5b5863",
   "metadata": {
    "slideshow": {
     "slide_type": "slide"
    }
   },
   "source": [
    "Remarquons que le nombre de Larceny et de vandalisme à Mattapan reste très proche de ceux nécessitant une procédure d'investigation de la police :"
   ]
  },
  {
   "cell_type": "code",
   "execution_count": 49,
   "id": "10a40a67",
   "metadata": {
    "slideshow": {
     "slide_type": "subslide"
    }
   },
   "outputs": [
    {
     "data": {
      "image/png": "[encoded data removed]",
      "text/plain": [
       "<Figure size 432x288 with 1 Axes>"
      ]
     },
     "metadata": {
      "needs_background": "light"
     },
     "output_type": "display_data"
    }
   ],
   "source": [
    "district = clean_data[clean_data['NAME'] == 'Mattapan'].value_counts('OFFENSE_CODE_GROUP',sort=True, ascending=False)\n",
    "plt.title('Mattapan')\n",
    "heights = district\n",
    "bars = district.index\n",
    "y_pos = range(len(bars))\n",
    "plt.bar(y_pos, heights)\n",
    "plt.xticks(y_pos, bars, rotation=90);"
   ]
  },
  {
   "cell_type": "markdown",
   "id": "d113ec7f",
   "metadata": {
    "slideshow": {
     "slide_type": "slide"
    }
   },
   "source": [
    "Nous avons étudié la position des crimes par rapport aux stations dans chaque district :"
   ]
  },
  {
   "cell_type": "code",
   "execution_count": 51,
   "id": "d7cde717",
   "metadata": {
    "slideshow": {
     "slide_type": "subslide"
    }
   },
   "outputs": [
    {
     "data": {
      "image/png": "[encoded data removed]",
      "text/plain": [
       "<Figure size 1080x216 with 3 Axes>"
      ]
     },
     "metadata": {
      "needs_background": "light"
     },
     "output_type": "display_data"
    }
   ],
   "source": [
    "fig, (ax) = plt.subplots(nrows=1, ncols=3,figsize=(15,3))\n",
    "\n",
    "data_Matt = clean_data[clean_data['NAME']=='Mattapan'].reset_index()\n",
    "\n",
    "ax[0].scatter(data_Matt['LAT'],data_Matt['LONG'],label ='crime')\n",
    "ax[0].scatter(data_Matt['LAT_POLICE_STATION'][0],data_Matt['LONG_POLICE_STATION'][0],label='station')\n",
    "ax[0].legend()\n",
    "\n",
    "data_Jam = clean_data[clean_data['NAME']=='Jamaica Plain'].reset_index()\n",
    "\n",
    "ax[1].scatter(data_Charl['LAT'],data_Charl['LONG'],label ='crime')\n",
    "ax[1].scatter(data_Charl['LAT_POLICE_STATION'][0],data_Charl['LONG_POLICE_STATION'][0],label='station')\n",
    "ax[1].legend()\n",
    "\n",
    "data_Rox = clean_data[clean_data['NAME']=='Roxbury'].reset_index()\n",
    "\n",
    "ax[2].scatter(data_Rox['LAT'],data_Rox['LONG'],label ='crime')\n",
    "ax[2].scatter(data_Rox['LAT_POLICE_STATION'][0],data_Rox['LONG_POLICE_STATION'][0],label='station')\n",
    "ax[2].legend()\n",
    "\n",
    "\n",
    "ax[0].title.set_text('Mattapan')\n",
    "ax[1].title.set_text('Jamaica Plain')\n",
    "ax[2].title.set_text('Roxbury')"
   ]
  },
  {
   "cell_type": "markdown",
   "id": "aa06f29d",
   "metadata": {
    "slideshow": {
     "slide_type": "slide"
    }
   },
   "source": [
    "Chaque station semble bien située par rapport aux crimes, à l'exception de celle de Charlestown :"
   ]
  },
  {
   "cell_type": "code",
   "execution_count": 55,
   "id": "eba006b6",
   "metadata": {
    "slideshow": {
     "slide_type": "subslide"
    }
   },
   "outputs": [
    {
     "data": {
      "image/png": "[encoded data removed]",
      "text/plain": [
       "<Figure size 432x288 with 1 Axes>"
      ]
     },
     "metadata": {
      "needs_background": "light"
     },
     "output_type": "display_data"
    }
   ],
   "source": [
    "data_Charl = clean_data[clean_data['NAME']=='Charlestown'].reset_index()\n",
    "plt.scatter(data_Charl['LAT'],data_Charl['LONG'],label ='crime')\n",
    "plt.scatter(data_Charl['LAT_POLICE_STATION'][0],data_Charl['LONG_POLICE_STATION'][0],label='station')\n",
    "plt.title('Charlestown')\n",
    "plt.legend();"
   ]
  },
  {
   "cell_type": "markdown",
   "id": "3005a55e",
   "metadata": {
    "slideshow": {
     "slide_type": "subslide"
    }
   },
   "source": [
    "Il pourrait être intéressant de déménager la station de Charlestown pour augmenter la vitesse d'intervention."
   ]
  }
 ],
 "metadata": {
  "celltoolbar": "Diaporama",
  "kernelspec": {
   "display_name": "Python 3",
   "language": "python",
   "name": "python3"
  },
  "language_info": {
   "codemirror_mode": {
    "name": "ipython",
    "version": 3
   },
   "file_extension": ".py",
   "mimetype": "text/x-python",
   "name": "python",
   "nbconvert_exporter": "python",
   "pygments_lexer": "ipython3",
   "version": "3.8.6"
  },
  "toc": {
   "base_numbering": 1,
   "nav_menu": {},
   "number_sections": true,
   "sideBar": true,
   "skip_h1_title": false,
   "title_cell": "Table of Contents",
   "title_sidebar": "Contents",
   "toc_cell": false,
   "toc_position": {},
   "toc_section_display": true,
   "toc_window_display": false
  }
 },
 "nbformat": 4,
 "nbformat_minor": 5
}
